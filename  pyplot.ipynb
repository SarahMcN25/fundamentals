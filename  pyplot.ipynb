{
 "cells": [
  {
   "cell_type": "markdown",
   "id": "0fadb56e-c753-44d7-8e69-edcbc2ae734e",
   "metadata": {},
   "source": [
    "<div style=\"text-align: left\"><img src=\"https://miro.medium.com/max/2000/0*WZjDcjjxfs2iweY9.png\" width=\"700\" /></div>\n",
    "\n",
    "\n",
    "<br>"
   ]
  },
  {
   "cell_type": "markdown",
   "id": "87559e30",
   "metadata": {},
   "source": [
    "# The Matplotlib Pyplot Package\n",
    "\n",
    "[Official documentation](https://matplotlib.org/stable/api/_as_gen/matplotlib.pyplot.html) \n",
    "***"
   ]
  },
  {
   "cell_type": "markdown",
   "id": "e1b194be",
   "metadata": {},
   "source": [
    "## What is Matplotlib?\n",
    "\n",
    "[Matplotlib](https://en.wikipedia.org/wiki/Matplotlib) is a comprehensive plotting library for the Python programming language which is used for data visualisation. It was origionally written by [John D. Hunter](https://en.wikipedia.org/wiki/John_D._Hunter) who was an American neurobiologist (1968–2012). The idea of Matplotlib came about during his reseach into neurobiology. He needed a resource to visualise the electrocorticography (ECoG) data of epilepsy patients. Since then, Matplotlib has an [active development community](https://github.com/matplotlib) lead by [Michael Droettboom](https://github.com/mdboom) and [Thomas Caswell](https://github.com/tacaswell). The official matplotlib website also has a [discourse page](https://discourse.matplotlib.org/) which allows the community and devolopers to interact and discuss problems and solutions. \n",
    "\n",
    "***"
   ]
  },
  {
   "cell_type": "markdown",
   "id": "eee42eb1",
   "metadata": {},
   "source": [
    "## What is Pyplot?\n",
    "\n",
    "[Pyplot](https://matplotlib.org/stable/api/_as_gen/matplotlib.pyplot.html) is a module in Matplotlib. Pyplot commands and functions make matplotlib behave like [MATLAB](https://www.mathworks.com/products/matlab.html). Matlab is another programming and numeric computing platform used by millions of engineers and scientists worldwide. Similar to matlab, pyplot is a state-based interface. This is different to an object orientated approach. Instead of assigning a piece of code to an object, pyplot defines and stores the current state using pyplot commands and functions. This allows pyplot to keep track of the desired state and automatically updates it once a command is called.\n",
    "\n",
    "***"
   ]
  },
  {
   "cell_type": "markdown",
   "id": "a6a89176",
   "metadata": {},
   "source": [
    "## What is NumPy?\n",
    " \n",
    "[NumPy](https://numpy.org/doc/stable/user/whatisnumpy.html) is an open source library in python. It is used when working with arrays and can perform a wide variety of mathematical operations. It is more efficent and more compact then using python lists. This module will be used in this notebook to generate data for plotting.  \n",
    "\n",
    "***\n",
    "\n",
    "<br>"
   ]
  },
  {
   "cell_type": "markdown",
   "id": "a4d4ddda",
   "metadata": {},
   "source": [
    "## Numpy functions used:\n",
    "***\n",
    "\n",
    "###  np.random()\n",
    "[Numpy random](https://numpy.org/doc/stable/reference/random/index.html) is a built in module in python that is used to generate random numbers. These are pseudo-random numbers which means they are not truly random because every random sequence is actually determinded by an inital value. By [default](https://www.w3schools.com/python/ref_random_seed.asp) the bit generator is none and therefore uses the current system time as the initial value. This is why the return value will differ each time the code is run.  \n",
    "\n",
    "\n",
    "### seed()\n",
    "[Seed](https://www.geeksforgeeks.org/random-seed-in-python/) is a funciton within numpy random that is used to set the initial value when generating random numbers. Once a seed value is set then each time that piece of code is executed it generates the same random numbers. The advantage of this is that when running the code it doesn't matter what the current time is or which machine you are using because the ramdom data will remain unchanged. \n",
    "\n",
    "\n",
    "<br>"
   ]
  },
  {
   "cell_type": "markdown",
   "id": "a07730ac",
   "metadata": {},
   "source": [
    "## Importing modules \n",
    "***"
   ]
  },
  {
   "cell_type": "code",
   "execution_count": 1,
   "id": "ba1405be-f527-44d2-9e7c-71dba33db814",
   "metadata": {},
   "outputs": [],
   "source": [
    "# Import packages here\n",
    "\n",
    "# Efficent numerical arrays / used for generating data \n",
    "import numpy as np\n",
    "\n",
    "# Used for plotting\n",
    "import matplotlib.pyplot as plt"
   ]
  },
  {
   "cell_type": "markdown",
   "id": "f24890d7",
   "metadata": {},
   "source": [
    "<br>\n",
    "\n",
    "## Design\n",
    "***"
   ]
  },
  {
   "cell_type": "markdown",
   "id": "16f9ff5c",
   "metadata": {},
   "source": [
    "### Magic commands\n",
    "\n",
    "Jupyter notebook code cells contain [magic commads](https://towardsdatascience.com/top-10-magic-commands-in-python-to-boost-your-productivity-1acac061c7a9) which were added to enhance the python code. These commands are produced by the IPython kernel in order to affect the behaviour of the notebook. They are usually prefixed by a “%” character. \n",
    "\n",
    "[%matplotlib inline](https://stackoverflow.com/questions/43027980/purpose-of-matplotlib-inline) is one of the most popular magic commands. It is used to render the plots within the notebook otherwise the plots may open on an external window. "
   ]
  },
  {
   "cell_type": "code",
   "execution_count": 2,
   "id": "eaa96d71",
   "metadata": {},
   "outputs": [],
   "source": [
    "# Using magic command to set plots to display inline below code  \n",
    "%matplotlib inline"
   ]
  },
  {
   "cell_type": "markdown",
   "id": "63d053f2",
   "metadata": {},
   "source": [
    "### Style Sheets\n",
    "\n",
    "Matplotlib has a huge selection of [style sheets](https://matplotlib.org/stable/gallery/style_sheets/style_sheets_reference.html). The style package allows us to customise our own design, however, there are nearly 30 built in styles along with a default option that can be activated using plt.style.use\n",
    "\n",
    "### Figure size\n",
    "\n",
    "Since I have allowed the plots to render inline in this notebook, it is also a good idea to set the figure size otherwise it may appear too small. This can be done using [Matplotlib's RcParams](https://matplotlib.org/stable/api/matplotlib_configuration_api.html#matplotlib.RcParams) figure.figsize. By passing in this [parameter](https://towardsdatascience.com/change-figure-size-matplotlib-11a409f39584), it will set all figures created within this notebook to this size unless another one is specified."
   ]
  },
  {
   "cell_type": "code",
   "execution_count": 3,
   "id": "0795cf23-7757-4aa0-a825-df0275c503e2",
   "metadata": {},
   "outputs": [],
   "source": [
    "# change figure style \n",
    "plt.style.use('fivethirtyeight')\n",
    "\n",
    "# change default figure size\n",
    "plt.rcParams['figure.figsize'] = [12, 8] "
   ]
  },
  {
   "cell_type": "markdown",
   "id": "e2e44c27",
   "metadata": {},
   "source": [
    "***\n",
    "\n",
    "<br>"
   ]
  },
  {
   "cell_type": "markdown",
   "id": "551c42d4",
   "metadata": {},
   "source": [
    "# Horizontal Bar Plot\n",
    "\n",
    "\n",
    "[Offical documentation](https://matplotlib.org/stable/api/_as_gen/matplotlib.pyplot.barh.html)\n",
    "\n",
    "\n",
    "https://matplotlib.org/stable/gallery/lines_bars_and_markers/barh.html#sphx-glr-gallery-lines-bars-and-markers-barh-py \n",
    "\n",
    "***"
   ]
  },
  {
   "cell_type": "markdown",
   "id": "75b946c0",
   "metadata": {},
   "source": [
    "## Parameters of a Horizontal Bar Plot\n",
    "***\n",
    "\n",
    "- ***y***: determines where the bars are positioned. In the below code cell the [numpy arange function](https://numpy.org/doc/stable/reference/generated/numpy.arange.html) is used to return an evenly spaced values within a defined interval. The default start value for np.arange is 0 and the stop value is set at the lenght of places which is 5. The plot below displays evenly spaced cities on the y-axis. \n",
    "\n",
    "\n",
    "- ***width***: sets the value of the bars. In this example, the width is the variable 'popularity'. This variable uses [numpy random rand function](https://www.geeksforgeeks.org/numpy-random-rand-python/) to create an array with five values and multiply those values by three plus five thousand. \n",
    "\n",
    "\n",
    "- ***height***: this parameter sets the height of each bar. If not selected the default value for height is 0.8. \n",
    "\n",
    "\n",
    "- ***left***: determines the left point on the x-axis. By default this is 0. \n",
    "\n",
    "\n",
    "- ***align***: refers to the alignment of the bars on the y-axis. This example sets align to 'center' which centers the bars on the y positions. The other option here is 'edge' which aligns the bottom edges of the bars with the y positions. This is set to center by default. \n",
    "\n",
    "<br>"
   ]
  },
  {
   "cell_type": "markdown",
   "id": "355acf19",
   "metadata": {},
   "source": [
    "## Pyplot Functions used:\n",
    "***\n",
    "\n",
    "### yticks()\n",
    "\n",
    "This function is used to set ticks on the y-axis. This plot sets the [yticks](https://matplotlib.org/stable/api/_as_gen/matplotlib.pyplot.yticks.html) to the length of places which is five. Then labels are set for these ticks to the actual place names. This allows for a clear understanding of what each bar represents. \n",
    "\n",
    "\n",
    "### gca()\n",
    "The [gca](https://matplotlib.org/stable/api/_as_gen/matplotlib.pyplot.gca.html) function is part of the pyplot package and it allows users to get the current axes on a figure. In this example, the gca function is used to invert the y-axis so that it appears in the order of the list on the plot from top to bottom. \n",
    "\n",
    "\n",
    "### xlabel()\n",
    "[This function](https://matplotlib.org/stable/api/_as_gen/matplotlib.pyplot.xlabel.html) sets a text label on the x-axis. Users can set the location of this label on the figure by passing in the loc parameter. The default location for xlabels is center as can be seen in the plot below. \n",
    "\n",
    "\n",
    "### title()\n",
    "[plt.title](https://matplotlib.org/stable/api/_as_gen/matplotlib.pyplot.title.html) adds a title to the figure. The default location is center, however, another can be specified by using the loc parameter for this as well. \n",
    "\n",
    "\n",
    "### show()\n",
    "[Pyplot.show](https://matplotlib.org/stable/api/_as_gen/matplotlib.pyplot.show.html) is what calls and displays a plot. However, this notebook has already run the magic command `%matplotlib inline` which automatically displays the plot at the end of every code cell by default. Nonetheless, the show function presents the plot in a more clean cut way. \n",
    "\n",
    "<br>"
   ]
  },
  {
   "cell_type": "code",
   "execution_count": 17,
   "id": "4805483d",
   "metadata": {},
   "outputs": [
    {
     "data": {
      "image/png": "[encoded data removed]",
      "text/plain": [
       "<Figure size 864x576 with 1 Axes>"
      ]
     },
     "metadata": {},
     "output_type": "display_data"
    }
   ],
   "source": [
    "# changing figure style \n",
    "plt.style.use('ggplot')\n",
    "\n",
    "# Fixing random state for reproducibility\n",
    "np.random.seed(5000)\n",
    "\n",
    "# Example data\n",
    "places = ('London', 'New York', 'Sydney', 'Tokyo', 'Paris')\n",
    "y = np.arange(len(places)) # array of 5 values\n",
    "popularity =  3 + 5000 *np.random.rand(len(places)) # generating ramdon data for popularity\n",
    "error = np.random.rand(len(places)) # defining the error\n",
    "\n",
    "# creating the horizontal bar plot\n",
    "plt.barh(y, popularity)\n",
    "plt.yticks(ticks=y, labels=places)\n",
    "plt.gca().invert_yaxis()\n",
    "plt.xlabel('Popularity')\n",
    "plt.title('What is the most popular city?')\n",
    "plt.show()\n"
   ]
  },
  {
   "cell_type": "markdown",
   "id": "03563475",
   "metadata": {},
   "source": [
    "***\n",
    "\n",
    "<br>\n",
    "\n",
    "# Scatter Plot\n",
    "\n",
    "[Offical documentation](https://matplotlib.org/stable/api/_as_gen/matplotlib.pyplot.scatter.html)\n",
    "\n",
    "\n",
    "https://matplotlib.org/stable/gallery/shapes_and_collections/scatter.html#sphx-glr-gallery-shapes-and-collections-scatter-py\n",
    "\n",
    "***"
   ]
  },
  {
   "cell_type": "markdown",
   "id": "4e629d15",
   "metadata": {},
   "source": [
    "# reference for end:\n",
    "\n",
    "https://stackoverflow.com/questions/14827650/pyplot-scatter-plot-marker-size\n",
    "\n",
    "\n",
    "https://moonbooks.org/Articles/How-to-increase-the-size-of-scatter-points-in-matplotlib-/\n"
   ]
  },
  {
   "cell_type": "markdown",
   "id": "d67e5cf8",
   "metadata": {},
   "source": [
    "## Parameters of a Scatter Plot\n",
    "***\n",
    "\n",
    "- ***x,y***: the first step to creating a scatter plot is setting the data positions. There must be x data and y data. In the below code cell, numpy random rand is used to generate an array for x and y containing random values. These two arrays are then passed into the scatter plot in order to create 80 marker points on the plot. \n",
    "\n",
    "\n",
    "- ***s***: this is an optional parameter that is used to change the size of the marker points. In other words, if a list or array of size is passed into the argument, then it returns a scatter plot with different marker sizes. In the plot below, s is set the the variable area. This variable contaions a list of 80 random float values which determine the size/area of each marker point in this scatter plot. If not selected the default marker size is rcParams['lines.markersize'] ** 2. \n",
    "\n",
    "\n",
    "- ***c***: is another optional parameter which passes in a color or list of colors. The variable colors was set to generate 80 random colors to use in the plot. \n",
    "\n",
    "\n",
    "- ***marker***: can be set by the instance of the class or using the word for that marker. A list of possible markers can be found [here](https://matplotlib.org/stable/api/_as_gen/matplotlib.markers.MarkerStyle.html#matplotlib.markers.MarkerStyle). The default marker is 'o' which can be seen in the plot below.\n",
    "\n",
    "\n",
    "- ***cmap***: is used if the c option is an array of floats. The [colormap](https://matplotlib.org/stable/api/_as_gen/matplotlib.colors.Colormap.html#matplotlib.colors.Colormap) converts an array of floats to the RGBA color that it represents. \n",
    "\n",
    "\n",
    "- ***norm***: is used if c is an array of floats. It scales 'c' in the range 0-1 and then maps it into the colormap. The default is none which [normalises](https://matplotlib.org/stable/api/_as_gen/matplotlib.colors.Normalize.html#matplotlib.colors.Normalize) the data. \n",
    "\n",
    "\n",
    "- ***vmin, vmax***: are used alongside the default for norm. In other words, they use the minimun and maximum values to normalise the 'c' values in order to create the colormap. \n",
    "\n",
    "\n",
    "- ***alpha***: is the blending value of the markers. This value is a float between 0 (transparent) and 1 (opaque). This is set to 0.5 in the below code cell which allows for slight transparenty in the plot. \n",
    "\n",
    "\n",
    "- ***linewidths***: determines the lonewidth or the marker edges and is represented as a float. The default linewidth is 1.5. \n",
    "\n",
    "\n",
    "- ***edgecolors***: will default at face value. In other words the edge color will be the same as the color selected in 'c'. If none is selected the edgecolor will have no patch boundary. If a color is selected it will change the color of the edge of every marker point. \n",
    "\n",
    " \n",
    "- ***plotnonfinite***: is a boolean option which defaults to false. If True, the points are displayed with the bad colormap color. \n",
    "\n",
    "<br>"
   ]
  },
  {
   "cell_type": "code",
   "execution_count": null,
   "id": "d923b24b",
   "metadata": {},
   "outputs": [],
   "source": [
    "# changing figure style. \n",
    "plt.style.use('fivethirtyeight')\n",
    "\n",
    "# Fixing random state for reproducibility.\n",
    "np.random.seed(19680801)\n",
    "\n",
    "\n",
    "N = 80\n",
    "x = np.random.rand(N) # 80 random floats for x.\n",
    "y = np.random.rand(N) # 80 random floats for y.\n",
    "colors = np.random.rand(N) # setting 80 random colors.\n",
    "area = (30 * np.random.rand(N))**2  # creating 80 random sizes/area of each marker.\n",
    "\n",
    "# Call and display scatterplot. \n",
    "plt.scatter(x, y, s=area, c=colors, alpha=0.5)\n",
    "plt.show()"
   ]
  },
  {
   "cell_type": "markdown",
   "id": "a6e0ece4",
   "metadata": {},
   "source": [
    "# Histograms\n",
    "\n",
    "https://matplotlib.org/stable/gallery/statistics/hist.html?highlight=histogram\n",
    "\n",
    "https://matplotlib.org/stable/api/_as_gen/matplotlib.axes.Axes.hist.html#matplotlib.axes.Axes.hist\n",
    "***"
   ]
  },
  {
   "cell_type": "code",
   "execution_count": null,
   "id": "4ce28416",
   "metadata": {},
   "outputs": [],
   "source": [
    "# Fixing random state for reproducibility\n",
    "#np.random.seed(19680801)\n",
    "\n",
    "N_points = 100000\n",
    "n_bins = 20\n",
    "\n",
    "# Generate a normal distribution, center at x=0 and y=5\n",
    "x = np.random.randn(N_points)\n",
    "y = .4 * x + np.random.randn(100000) + 5\n",
    "\n",
    "fig, axs = plt.subplots(1, 2, sharey=True, tight_layout=True)\n",
    "\n",
    "# We can set the number of bins with the `bins` kwarg\n",
    "axs[0].hist(x, bins=n_bins)\n",
    "axs[1].hist(y, bins=n_bins)\n",
    "\n",
    "plt.show()"
   ]
  },
  {
   "cell_type": "markdown",
   "id": "2a18d872",
   "metadata": {},
   "source": [
    "***"
   ]
  },
  {
   "cell_type": "markdown",
   "id": "1d6aac8f",
   "metadata": {},
   "source": [
    "***"
   ]
  },
  {
   "cell_type": "markdown",
   "id": "bf03f15b",
   "metadata": {},
   "source": [
    "<br>\n",
    "\n",
    "# Example 6 - playing with subplots\n",
    "\n",
    "https://matplotlib.org/stable/gallery/subplots_axes_and_figures/subplot.html"
   ]
  },
  {
   "cell_type": "code",
   "execution_count": null,
   "id": "6b8ae2b1",
   "metadata": {},
   "outputs": [],
   "source": [
    "x1 = np.linspace(0.0, 5.0)\n",
    "x2 = np.linspace(0.0, 2.0)\n",
    "\n",
    "y1 = np.cos(2 * np.pi * x1) * np.exp(-x1)\n",
    "y2 = np.cos(2 * np.pi * x2)\n",
    "\n",
    "plt.subplot(2, 1, 1)\n",
    "plt.plot(x1, y1, 'o-')\n",
    "plt.title('A tale of 2 subplots')\n",
    "plt.ylabel('Damped oscillation')\n",
    "\n",
    "plt.subplot(2, 1, 2)\n",
    "plt.plot(x2, y2, '.-')\n",
    "plt.xlabel('time (s)')\n",
    "plt.ylabel('Undamped')\n",
    "\n",
    "plt.show()"
   ]
  },
  {
   "cell_type": "markdown",
   "id": "62adc4f8",
   "metadata": {},
   "source": [
    "### subplots\n",
    "[Subplots](https://matplotlib.org/stable/api/_as_gen/matplotlib.pyplot.subplots.html) is a function in the pyplot package which creates a figure and a set of subplots. In other words, it returns a tuple containing a figure and axes objects with just one call. It is a [simple way](https://matplotlib.org/stable/gallery/subplots_axes_and_figures/subplots_demo.html) of creating one figure and axes with multiple subplots. In this example, there is only one plot with a single axes.    "
   ]
  },
  {
   "cell_type": "markdown",
   "id": "b5784e7e-00ea-4537-9368-7084611b0ec6",
   "metadata": {},
   "source": [
    "# References\n",
    "\n",
    "***\n",
    "\n",
    "1.  https://matplotlib.org/stable/gallery/lines_bars_and_markers/barh.html#sphx-glr-gallery-lines-bars-and-markers-barh-py\n",
    "\n",
    "2.  https://numpy.org/doc/stable/reference/random/generated/numpy.random.normal.html\n",
    "\n",
    "3.  https://matplotlib.org/stable/gallery/style_sheets/style_sheets_reference.html\n",
    "\n",
    "4.  https://stackoverflow.com/questions/36367986/how-to-make-inline-plots-in-jupyter-notebook-larger\n",
    "\n",
    "5.  https://stackoverflow.com/questions/14675913/changing-image-size-in-markdown\n",
    "\n",
    "6.  https://matplotlib.org/stable/gallery/pie_and_polar_charts/pie_features.html?highlight=pie%20chart\n",
    "\n",
    "7.  https://matplotlib.org/stable/gallery/subplots_axes_and_figures/subplot.html\n",
    "\n",
    "8.  https://stackoverflow.com/questions/52816131/matplotlib-pyplot-documentation-says-it-is-state-based-interface-to-matplotlib\n",
    "\n",
    "9.  https://stackoverflow.com/questions/11469336/what-is-the-difference-between-pylab-and-pyplot\n",
    "\n",
    "10. https://hub.packtpub.com/advanced-matplotlib-part-1/\n",
    "\n",
    "11. https://docs.python.org/3/library/random.html\n",
    "\n",
    "12. https://www.w3schools.com/python/ref_random_seed.asp\n",
    "\n",
    "13. https://www.geeksforgeeks.org/random-seed-in-python/\n",
    "\n",
    "14. https://matplotlib.org/stable/api/matplotlib_configuration_api.html#matplotlib.RcParams\n",
    "\n",
    "15. https://towardsdatascience.com/change-figure-size-matplotlib-11a409f39584\n",
    "\n",
    "16. https://matplotlib.org/stable/api/_as_gen/matplotlib.pyplot.subplots.html\n",
    "\n",
    "\n",
    "17. https://stackoverflow.com/questions/34162443/why-do-many-examples-use-fig-ax-plt-subplots-in-matplotlib-pyplot-python\n",
    "\n",
    "\n",
    "18. https://matplotlib.org/stable/gallery/subplots_axes_and_figures/subplots_demo.html\n",
    "\n",
    "\n",
    "19. "
   ]
  },
  {
   "cell_type": "markdown",
   "id": "453fae5c-1091-42c6-844e-cec6ee656283",
   "metadata": {},
   "source": [
    "***\n",
    "# End"
   ]
  }
 ],
 "metadata": {
  "kernelspec": {
   "display_name": "Python 3",
   "language": "python",
   "name": "python3"
  },
  "language_info": {
   "codemirror_mode": {
    "name": "ipython",
    "version": 3
   },
   "file_extension": ".py",
   "mimetype": "text/x-python",
   "name": "python",
   "nbconvert_exporter": "python",
   "pygments_lexer": "ipython3",
   "version": "3.8.8"
  }
 },
 "nbformat": 4,
 "nbformat_minor": 5
}
