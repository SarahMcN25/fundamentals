{
 "cells": [
  {
   "cell_type": "markdown",
   "id": "9d1ad996-dd55-420e-afbb-7d77fe1f9511",
   "metadata": {},
   "source": [
    "![cao](https://www.cao.ie/icons/fblogo.png)"
   ]
  },
  {
   "cell_type": "markdown",
   "id": "2ecbccd9-021e-40fd-89c5-ea12be4e087a",
   "metadata": {},
   "source": [
    "# The Central Appplications Office (CAO)\n",
    "\n",
    "\n",
    "[Official Website](https://www.cao.ie/)\n",
    "***"
   ]
  },
  {
   "cell_type": "markdown",
   "id": "6e3f31ca-ca29-4b48-9e6f-0f8d1a443b66",
   "metadata": {},
   "source": []
  },
  {
   "cell_type": "code",
   "execution_count": null,
   "id": "88ad2d54-4587-4c18-9c43-73db212444b5",
   "metadata": {},
   "outputs": [],
   "source": [
    "    "
   ]
  },
  {
   "cell_type": "markdown",
   "id": "1d119f20",
   "metadata": {},
   "source": [
    "<br>\n",
    "\n",
    "## How to load CAO points information into pandas frame\n",
    "\n",
    "***"
   ]
  },
  {
   "cell_type": "code",
   "execution_count": null,
   "id": "dbf625e8-c600-486f-9c28-fbf8f882cbf6",
   "metadata": {},
   "outputs": [],
   "source": []
  },
  {
   "cell_type": "code",
   "execution_count": null,
   "id": "5f5bd051-eeeb-410b-904a-04385783be68",
   "metadata": {},
   "outputs": [],
   "source": []
  },
  {
   "cell_type": "markdown",
   "id": "6501b3da",
   "metadata": {},
   "source": [
    "<br>\n",
    "\n",
    "## Comparison of CAO points in 2019, 2020 and 2021\n",
    "\n",
    "***"
   ]
  },
  {
   "cell_type": "code",
   "execution_count": null,
   "id": "e4d3668f-f3e3-42ac-bbce-65dfea740720",
   "metadata": {},
   "outputs": [],
   "source": []
  },
  {
   "cell_type": "code",
   "execution_count": null,
   "id": "49c27bce",
   "metadata": {},
   "outputs": [],
   "source": []
  },
  {
   "cell_type": "markdown",
   "id": "e35ffe1f-2cd4-408a-a8d9-c9ba8f380620",
   "metadata": {},
   "source": [
    "<br>\n",
    "\n",
    "# References:\n",
    "\n",
    "***\n",
    "\n",
    "1.\n",
    "\n",
    "2.\n",
    "\n",
    "3.\n",
    "\n"
   ]
  },
  {
   "cell_type": "markdown",
   "id": "83e6cbec",
   "metadata": {},
   "source": [
    "***\n",
    "\n",
    "# End"
   ]
  }
 ],
 "metadata": {
  "kernelspec": {
   "display_name": "Python 3",
   "language": "python",
   "name": "python3"
  },
  "language_info": {
   "codemirror_mode": {
    "name": "ipython",
    "version": 3
   },
   "file_extension": ".py",
   "mimetype": "text/x-python",
   "name": "python",
   "nbconvert_exporter": "python",
   "pygments_lexer": "ipython3",
   "version": "3.8.8"
  }
 },
 "nbformat": 4,
 "nbformat_minor": 5
}
