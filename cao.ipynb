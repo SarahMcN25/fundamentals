{
 "cells": [
  {
   "cell_type": "code",
   "execution_count": 14,
   "id": "5822fe12",
   "metadata": {},
   "outputs": [],
   "source": [
    "# ![cao](https://www.cao.ie/icons/fblogo.png)\n",
    "\n",
    "# [Official CAO Website](https://www.cao.ie/)"
   ]
  },
  {
   "cell_type": "markdown",
   "id": "2ecbccd9-021e-40fd-89c5-ea12be4e087a",
   "metadata": {},
   "source": [
    "<br>\n",
    "\n",
    "# CAO Points Analysis\n",
    "\n",
    "http://www.cao.ie/index.php?page=points&p=2021\n",
    "\n",
    "***"
   ]
  },
  {
   "cell_type": "code",
   "execution_count": 2,
   "id": "0c7865bc-6074-4d04-9c3c-46e4ad59b573",
   "metadata": {},
   "outputs": [],
   "source": [
    "# Regular expressions - ref 1.\n",
    "import re\n",
    "\n",
    "# Convenient HTTP requests - ref 4.\n",
    "import requests as rq\n",
    "\n",
    "# Dates and times - ref 8. \n",
    "import datetime as dt"
   ]
  },
  {
   "cell_type": "code",
   "execution_count": 3,
   "id": "32b07f28-6396-4698-9d93-272d506ec325",
   "metadata": {},
   "outputs": [
    {
     "data": {
      "text/plain": [
       "<Response [200]>"
      ]
     },
     "execution_count": 3,
     "metadata": {},
     "output_type": "execute_result"
    }
   ],
   "source": [
    "# Fetch the CAO points URL - ref 4.\n",
    "resp = rq.get('http://www2.cao.ie/points/l8.php')\n",
    "\n",
    "# Check response. 200 means OK. 401 means error. \n",
    "resp"
   ]
  },
  {
   "cell_type": "markdown",
   "id": "203bc764",
   "metadata": {},
   "source": [
    "<br>\n",
    "\n",
    "## Save origional data set\n",
    "\n",
    "***"
   ]
  },
  {
   "cell_type": "code",
   "execution_count": 4,
   "id": "5a568d28",
   "metadata": {},
   "outputs": [],
   "source": [
    "# Get the current date and time.\n",
    "now = dt.datetime.now()\n",
    "\n",
    "# Format as a string.\n",
    "nowstr = now.strftime('%Y%m%d_%H%M%S')"
   ]
  },
  {
   "cell_type": "code",
   "execution_count": 5,
   "id": "f2349658",
   "metadata": {},
   "outputs": [],
   "source": [
    "# Create a file path for the original data.\n",
    "path = 'data/cao2021_' + nowstr + '.html'"
   ]
  },
  {
   "cell_type": "markdown",
   "id": "319284e2",
   "metadata": {},
   "source": [
    "<br>\n",
    "\n",
    "## Error on server\n",
    "\n",
    "***"
   ]
  },
  {
   "cell_type": "markdown",
   "id": "9cd3ef70",
   "metadata": {},
   "source": [
    "Technically, the server says we should decode as per:\n",
    "\n",
    "    Content-Type: text/html; charset=iso-8859-1\n",
    "\n",
    "However, one line uses \\x96 which isn't defined in iso-8859-1.\n",
    "\n",
    "Therefore we use the similar decoding standard cp1252, which is very similar but includes #x96"
   ]
  },
  {
   "cell_type": "code",
   "execution_count": 6,
   "id": "f36f6eff",
   "metadata": {},
   "outputs": [],
   "source": [
    "# The server uses the wrong encoding, fix it.\n",
    "original_encoding = resp.encoding\n",
    "\n",
    "# Change to cp1252.\n",
    "resp.encoding = 'cp1252'"
   ]
  },
  {
   "cell_type": "code",
   "execution_count": 7,
   "id": "520c3895",
   "metadata": {},
   "outputs": [],
   "source": [
    "# Save the original html file.\n",
    "with open(path, 'w') as f:\n",
    "    f.write(resp.text)"
   ]
  },
  {
   "cell_type": "markdown",
   "id": "7c3184f6",
   "metadata": {},
   "source": [
    "<br>\n",
    "\n",
    "## Use regular expressions to select lines we want\n",
    "\n",
    "***"
   ]
  },
  {
   "cell_type": "code",
   "execution_count": 8,
   "id": "84c97aa5",
   "metadata": {},
   "outputs": [],
   "source": [
    "# Compile the regular expression for matching lines.\n",
    "re_course = re.compile(r'([A-Z]{2}[0-9]{3})  (.*)([0-9]{3})(\\*?) *')"
   ]
  },
  {
   "cell_type": "code",
   "execution_count": 9,
   "id": "dbd539d4",
   "metadata": {},
   "outputs": [],
   "source": [
    "# This uses regular expressions to filter through the webpage in order to get the course lines I want for my code. "
   ]
  },
  {
   "cell_type": "code",
   "execution_count": 10,
   "id": "abb1a6b5",
   "metadata": {},
   "outputs": [],
   "source": [
    "# Being with r it looks for any 2 uppercase letters and any 3 numbers from 0-9 followed by 2 spaces and any character\n",
    "# up until another 3 numbers from 0-9 and anything after that up until a new line"
   ]
  },
  {
   "cell_type": "markdown",
   "id": "748256a4-768a-4695-b3f2-372692cf49e8",
   "metadata": {},
   "source": [
    "<br>\n",
    "\n",
    "## Loop through the lines of the response\n",
    "\n",
    "***"
   ]
  },
  {
   "cell_type": "code",
   "execution_count": 11,
   "id": "3b70c9a5",
   "metadata": {},
   "outputs": [],
   "source": [
    "# Must use the line.decode function when reading in the webpage it uses a different encoding method\n",
    "# to that of my system's default encoding and therefore must be decoded. ref 7."
   ]
  },
  {
   "cell_type": "code",
   "execution_count": 12,
   "id": "1b5d40dd-1570-4b6e-82f1-3d849302529b",
   "metadata": {
    "scrolled": true,
    "tags": []
   },
   "outputs": [
    {
     "name": "stdout",
     "output_type": "stream",
     "text": [
      "Total number of lines is 922.\n"
     ]
    }
   ],
   "source": [
    "# The file path for the csv file.\n",
    "path = 'data/cao2021_csv_' + nowstr + '.csv'\n",
    "\n",
    "# Keeps track of how many courses we process.\n",
    "no_lines = 0\n",
    "\n",
    "# Open the csv file for writing.\n",
    "with open(path, 'w') as f:\n",
    "    # Loop through lines of the response - ref 6.\n",
    "    for line in resp.iter_lines():\n",
    "        # Decode the line, using the wrong encoding!\n",
    "        dline = line.decode('cp1252')\n",
    "        # Match only the lines representing courses.\n",
    "        if re_course.fullmatch(dline):\n",
    "            # Add one to the lines counter.\n",
    "            no_lines = no_lines + 1\n",
    "            # Split the line on two or more spaces.\n",
    "            linesplit = re.split('  +', dline)\n",
    "            # Rejoin the substrings with commas in between.\n",
    "            f.write(','.join(linesplit) + '\\n')\n",
    "               \n",
    "# Print the total number of processed lines.\n",
    "print(f\"Total number of lines is {no_lines}.\")\n",
    "   \n",
    "        # Pick out the relevant parts of the matched line - ref 5.\n",
    "        #csv_version = re_course.sub(r'\\1,\\2,\\3,\\4', line.decode('iso-8859-1'))\n",
    "        # Print the CSV-style line\n",
    "        #print(csv_version)\n"
   ]
  },
  {
   "cell_type": "code",
   "execution_count": null,
   "id": "f2aeabae-ac5c-460f-b148-41445ad62c15",
   "metadata": {},
   "outputs": [],
   "source": []
  },
  {
   "cell_type": "code",
   "execution_count": null,
   "id": "ab7e8602-259c-4beb-ae2e-5cb155364e0c",
   "metadata": {},
   "outputs": [],
   "source": []
  },
  {
   "cell_type": "code",
   "execution_count": null,
   "id": "f85b650f-fa20-4323-8600-b6f2342e0680",
   "metadata": {},
   "outputs": [],
   "source": []
  },
  {
   "cell_type": "code",
   "execution_count": null,
   "id": "45b09350-c148-4c0a-a7d9-0f37c4d6a063",
   "metadata": {},
   "outputs": [],
   "source": []
  },
  {
   "cell_type": "code",
   "execution_count": null,
   "id": "0655ee1d-a0e4-4734-9c8d-56eda0a087f7",
   "metadata": {},
   "outputs": [],
   "source": []
  },
  {
   "cell_type": "code",
   "execution_count": null,
   "id": "e08eb37d-7031-467f-9183-8ec8b307bf5f",
   "metadata": {},
   "outputs": [],
   "source": []
  },
  {
   "cell_type": "code",
   "execution_count": null,
   "id": "ee413c8c-d36e-442b-96b8-08f95773819a",
   "metadata": {},
   "outputs": [],
   "source": []
  },
  {
   "cell_type": "code",
   "execution_count": null,
   "id": "b5dd9ce3-c153-4cd3-ad93-0390c3d3f4a1",
   "metadata": {},
   "outputs": [],
   "source": []
  },
  {
   "cell_type": "code",
   "execution_count": null,
   "id": "88ad2d54-4587-4c18-9c43-73db212444b5",
   "metadata": {},
   "outputs": [],
   "source": [
    "    "
   ]
  },
  {
   "cell_type": "code",
   "execution_count": null,
   "id": "dbf625e8-c600-486f-9c28-fbf8f882cbf6",
   "metadata": {},
   "outputs": [],
   "source": []
  },
  {
   "cell_type": "code",
   "execution_count": null,
   "id": "5f5bd051-eeeb-410b-904a-04385783be68",
   "metadata": {},
   "outputs": [],
   "source": []
  },
  {
   "cell_type": "markdown",
   "id": "6501b3da",
   "metadata": {},
   "source": [
    "<br>\n",
    "\n",
    "## Comparison of CAO points in 2019, 2020 and 2021\n",
    "\n",
    "***"
   ]
  },
  {
   "cell_type": "code",
   "execution_count": null,
   "id": "e4d3668f-f3e3-42ac-bbce-65dfea740720",
   "metadata": {},
   "outputs": [],
   "source": []
  },
  {
   "cell_type": "code",
   "execution_count": null,
   "id": "49c27bce",
   "metadata": {},
   "outputs": [],
   "source": []
  },
  {
   "cell_type": "markdown",
   "id": "e35ffe1f-2cd4-408a-a8d9-c9ba8f380620",
   "metadata": {},
   "source": [
    "<br>\n",
    "\n",
    "# References:\n",
    "\n",
    "***\n",
    "\n",
    "1. https://docs.python.org/3/library/re.html\n",
    "\n",
    "2. https://realpython.com/regex-python/\n",
    "\n",
    "3. https://realpython.com/regex-python-part-2/\n",
    "\n",
    "4. https://docs.python-requests.org/en/latest/user/quickstart/#make-a-request\n",
    "\n",
    "5. https://www.mygreatlearning.com/blog/regular-expression-in-python/\n",
    "\n",
    "6. https://stackoverflow.com/questions/16870648/python-read-website-data-line-by-line-when-available\n",
    "\n",
    "7. https://sites.pitt.edu/~naraehan/python3/mbb12.html\n",
    "\n",
    "8. https://docs.python.org/3/library/datetime.html\n",
    "\n",
    "9. \n"
   ]
  },
  {
   "cell_type": "markdown",
   "id": "83e6cbec",
   "metadata": {},
   "source": [
    "***\n",
    "\n",
    "# End"
   ]
  }
 ],
 "metadata": {
  "kernelspec": {
   "display_name": "Python 3",
   "language": "python",
   "name": "python3"
  },
  "language_info": {
   "codemirror_mode": {
    "name": "ipython",
    "version": 3
   },
   "file_extension": ".py",
   "mimetype": "text/x-python",
   "name": "python",
   "nbconvert_exporter": "python",
   "pygments_lexer": "ipython3",
   "version": "3.8.8"
  }
 },
 "nbformat": 4,
 "nbformat_minor": 5
}
