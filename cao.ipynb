{
 "cells": [
  {
   "cell_type": "markdown",
   "id": "88a03ec4",
   "metadata": {},
   "source": [
    "![cao](img/cao.png)"
   ]
  },
  {
   "cell_type": "markdown",
   "id": "2ecbccd9-021e-40fd-89c5-ea12be4e087a",
   "metadata": {},
   "source": [
    "<br>\n",
    "\n",
    "# CAO Points Analysis\n",
    "\n",
    "[Official CAO Website](https://www.cao.ie/)\n",
    "\n",
    "***"
   ]
  },
  {
   "cell_type": "markdown",
   "id": "5c34b433",
   "metadata": {},
   "source": [
    "## Overview\n",
    "***\n",
    "\n",
    "This notebook analyses the CAO points from the last three years by converting the following: \n",
    "\n",
    "\n",
    "- 2021 points from http into a dataframe.\n",
    "\n",
    "- 2020 points from an excel spreadsheet into another dataframe.\n",
    "\n",
    "- 2019 points from a pdf into a dataframe. \n",
    "\n",
    "\n",
    "\n",
    "Then I combine all three points into one dataframe for analysis. \n",
    "\n",
    "<br>"
   ]
  },
  {
   "cell_type": "markdown",
   "id": "5cb6af8a",
   "metadata": {},
   "source": [
    "## Importing modules\n",
    "***"
   ]
  },
  {
   "cell_type": "markdown",
   "id": "4b255fb3",
   "metadata": {},
   "source": [
    "### Regular Expressions\n",
    "Regular expression also known as [regexes](https://realpython.com/regex-python/) are special sequence of characters that are used to form a search pattern. In other words, a user can use a regular expression to search through a particular file in order to find that particular pattern or sequence. Python has a built-package for regular expressions called \"[re](https://docs.python.org/3/library/re.html)\". \n"
   ]
  },
  {
   "cell_type": "markdown",
   "id": "33cd0d7e",
   "metadata": {},
   "source": [
    "### Requests\n",
    "This is another built-in package in python. [Requests](https://www.pythonforbeginners.com/requests/using-requests-in-python) is imported to allow a user to send HTTP/1.1 requests. To put it simply, this module contains various functions and operations that allow the user to retrieve data from a http. \n"
   ]
  },
  {
   "cell_type": "markdown",
   "id": "8bbf27d8",
   "metadata": {},
   "source": [
    "### Datetime\n",
    "The [datetime module](https://www.geeksforgeeks.org/python-datetime-module/) is imported when working with dates and times. There are six main categories in this module:\n",
    "\n",
    "1. date - used for year, month or day.\n",
    "\n",
    "\n",
    "2. time - used for hours, minutes, seconds, microseconds, and tzinfo.\n",
    "\n",
    "\n",
    "3. datetime - is a combination of both date and time. \n",
    "\n",
    "\n",
    "4. timedelta - used to represent duration.\n",
    "\n",
    "\n",
    "5. tzinfo - gives time zone information objects.\n",
    "\n",
    "\n",
    "6. timezone – gives tzinfo as fixed offset from UTC. \n"
   ]
  },
  {
   "cell_type": "markdown",
   "id": "ebe1eeac",
   "metadata": {},
   "source": [
    "### Pandas\n",
    "[Pandas](https://mode.com/python-tutorial/libraries/pandas/#:~:text=Pandas%20is%20a%20Python%20library%20for%20data%20analysis.&text=Pandas%20is%20built%20on%20top,NumPy%27s%20methods%20with%20less%20code.) is another python library used for data analysis. It uses dataframes and operations to manipulate numerical tables and time series. Pandas will be used in this notebook to store and compare the cao points from 2021, 2020 and 2019. \n"
   ]
  },
  {
   "cell_type": "markdown",
   "id": "0033b8ee",
   "metadata": {},
   "source": [
    "### Urllib request\n",
    "This is an [extensive library](https://docs.python.org/3/library/urllib.request.html) used for opening urls. Unlike the requests library, this module offers more functionality and quicker way to open and read data from urls. \n",
    "\n",
    "<br>"
   ]
  },
  {
   "cell_type": "code",
   "execution_count": 1,
   "id": "0c7865bc-6074-4d04-9c3c-46e4ad59b573",
   "metadata": {},
   "outputs": [],
   "source": [
    "# For regular expressions. - ref 1.\n",
    "import re\n",
    "\n",
    "# Convenient HTTP requests - ref 4.\n",
    "import requests as rq\n",
    "\n",
    "# Dates and times. - ref 8. \n",
    "import datetime as dt\n",
    "\n",
    "# Pandas for data frames. - ref 9.\n",
    "import pandas as pd\n",
    "\n",
    "# For downloading urls. - ref 10.\n",
    "import urllib.request as urlrq"
   ]
  },
  {
   "cell_type": "markdown",
   "id": "e6d6f379",
   "metadata": {},
   "source": [
    "# references to use at end!!!!!\n",
    "\n",
    "\n",
    "- https://realpython.com/regex-python/\n",
    "\n",
    "\n",
    "- https://realpython.com/regex-python-part-2/\n",
    "\n",
    "\n",
    "- https://www.mygreatlearning.com/blog/regular-expression-in-python/\n",
    "\n",
    "\n",
    "- https://docs.python-requests.org/en/latest/user/quickstart/#make-a-request\n",
    "\n",
    "\n",
    "- https://howchoo.com/g/ywi5m2vkodk/working-with-datetime-objects-and-timezones-in-python\n",
    "\n",
    "\n",
    "- https://pandas.pydata.org/pandas-docs/stable/user_guide/dsintro.html\n",
    "\n",
    "\n",
    "- https://stackoverflow.com/questions/16870648/python-read-website-data-line-by-line-when-available\n",
    "\n",
    "\n",
    "- https://www.geeksforgeeks.org/python-urllib-module/"
   ]
  },
  {
   "cell_type": "markdown",
   "id": "7e3da2a9",
   "metadata": {},
   "source": [
    "<br>\n",
    "\n",
    "## Time stamp\n",
    "***"
   ]
  },
  {
   "cell_type": "markdown",
   "id": "f84fa2ef",
   "metadata": {},
   "source": [
    "Here I created a time stamp by getting the current date and time using the datetime module. Next the strftime function is used to take in the current date and time and convert it into a string using the strftime method. There are numerious formats that can be used. A list of the strftime format can be found [here](https://strftime.org/). \n",
    "\n",
    "\n",
    "In the code cell below, I take the current date and time and convert it into the following format. This will then be used as the time stamp going forward.\n",
    "\n",
    "- %Y stands for the year as a decimal number.\n",
    "\n",
    "\n",
    "- %m represents the month as a decimal number.\n",
    "\n",
    "\n",
    "- %d is for the day of the month as a decimal number.\n",
    "\n",
    "\n",
    "- %H gives the hour in a 24 hour clock format.\n",
    "\n",
    "\n",
    "- %M is used to get the minute as a decimal number.\n",
    "\n",
    "\n",
    "- %S produces the second as a decimal number.\n"
   ]
  },
  {
   "cell_type": "code",
   "execution_count": 2,
   "id": "5a568d28",
   "metadata": {},
   "outputs": [],
   "source": [
    "# Get the current date and time.\n",
    "now = dt.datetime.now()\n",
    "\n",
    "# Format as a string.\n",
    "nowstr = now.strftime('%Y%m%d_%H%M%S')"
   ]
  },
  {
   "cell_type": "markdown",
   "id": "e7c489d1",
   "metadata": {},
   "source": [
    "<br>\n",
    "\n",
    "# 2021 CAO Points\n",
    "\n",
    "http://www.cao.ie/index.php?page=points&p=2021\n",
    "***"
   ]
  },
  {
   "cell_type": "markdown",
   "id": "ebd656a6",
   "metadata": {},
   "source": [
    "This section converts the 2021 CAO points from a http link into a pandas dataframe. \n",
    "\n",
    "<br>"
   ]
  },
  {
   "cell_type": "markdown",
   "id": "7eac2e40",
   "metadata": {},
   "source": [
    "### Request the http link\n",
    "***"
   ]
  },
  {
   "cell_type": "markdown",
   "id": "ed60b7ad",
   "metadata": {},
   "source": [
    "In the code cell below, [requests.get](https://docs.python-requests.org/en/latest/user/quickstart/#make-a-request) is used to fetch the data from the selected http link. \n",
    "\n",
    "\n",
    "It is also good practice to check the http respone. This is done by call `resp`. As you can see the returned respone is 200 which means the request was successful. A list of different response codes can be found [here](https://developer.mozilla.org/en-US/docs/Web/HTTP/Status)\n"
   ]
  },
  {
   "cell_type": "code",
   "execution_count": 3,
   "id": "32b07f28-6396-4698-9d93-272d506ec325",
   "metadata": {},
   "outputs": [
    {
     "data": {
      "text/plain": [
       "<Response [200]>"
      ]
     },
     "execution_count": 3,
     "metadata": {},
     "output_type": "execute_result"
    }
   ],
   "source": [
    "# Fetch the 2021 CAO points URL - ref 4.\n",
    "resp = rq.get('http://www2.cao.ie/points/l8.php')\n",
    "\n",
    "# Check response. 200 means OK. 401 means error. \n",
    "resp"
   ]
  },
  {
   "cell_type": "markdown",
   "id": "203bc764",
   "metadata": {},
   "source": [
    "<br>\n",
    "\n",
    "### Save origional data set\n",
    "***"
   ]
  },
  {
   "cell_type": "markdown",
   "id": "634363b2",
   "metadata": {},
   "source": [
    "Here I use the time stamp I created above to open a file path for the origional http data. It will be stored in the data folder in this repository and the time stamp is used in the filename in order to keep track of the data each time the code is run in case an error ever occurs. \n"
   ]
  },
  {
   "cell_type": "code",
   "execution_count": 4,
   "id": "f2349658",
   "metadata": {},
   "outputs": [],
   "source": [
    "# Create a file path for the original data.\n",
    "pathhtml = 'data/cao2021_' + nowstr + '.html'"
   ]
  },
  {
   "cell_type": "markdown",
   "id": "319284e2",
   "metadata": {},
   "source": [
    "<br>\n",
    "\n",
    "### Error on server\n",
    "***"
   ]
  },
  {
   "cell_type": "markdown",
   "id": "9cd3ef70",
   "metadata": {},
   "source": [
    "[Encoding](https://stackoverflow.com/questions/4657416/difference-between-encoding-and-encryption) is used to transfer data in a safe way so that it can be used on different systems. The encoding on my machine may differ from anothers which is why we need to decode using the method of that particular server.\n",
    "\n",
    "\n",
    "The server says we should decode as per:\n",
    "\n",
    "```Content-Type: text/html; charset=iso-8859-1```\n",
    "\n",
    "\n",
    "However, an error occured. One of the lines uses \\x96 which isn't defined in iso-8859-1. This error was referring to a fada in one of the Irish course names. \n",
    "\n",
    "\n",
    "Therefore, we need to use a similar decoding standard [cp1252](https://en.wikipedia.org/wiki/Windows-1252#:~:text=Windows%2D1252%20or%20CP%2D1252,Spanish%2C%20French%2C%20and%20German.) instead. This encoding method includes characters from the Latin alphabet which would include fadas. "
   ]
  },
  {
   "cell_type": "code",
   "execution_count": 5,
   "id": "f36f6eff",
   "metadata": {},
   "outputs": [],
   "source": [
    "# The server uses the wrong encoding.\n",
    "original_encoding = resp.encoding\n",
    "\n",
    "# Change encoding here. \n",
    "resp.encoding = 'cp1252'"
   ]
  },
  {
   "cell_type": "markdown",
   "id": "352adbc8",
   "metadata": {},
   "source": [
    "<br>\n",
    "\n",
    "Using a [with statement](https://www.pythonforbeginners.com/files/with-statement-in-python) here to open file created above and write the above request to that file. "
   ]
  },
  {
   "cell_type": "code",
   "execution_count": 6,
   "id": "520c3895",
   "metadata": {},
   "outputs": [],
   "source": [
    "# Open and write origional http data to file.\n",
    "with open(pathhtml, 'w') as f:\n",
    "    f.write(resp.text)"
   ]
  },
  {
   "cell_type": "markdown",
   "id": "7c3184f6",
   "metadata": {},
   "source": [
    "<br>\n",
    "\n",
    "### Regular Expressions\n",
    "***"
   ]
  },
  {
   "cell_type": "markdown",
   "id": "2b38ff1d",
   "metadata": {},
   "source": [
    "Using a regular expression here to select the desired lines within the http file.  This [blog](https://www.mygreatlearning.com/blog/regular-expression-in-python/) gives very clear explaination of characters used when working with regular expressions. In the code cell below:\n",
    "\n",
    "\n",
    "- [re.compile](https://www.tutorialspoint.com/Why-do-we-use-re-compile-method-in-Python-regular-expression) collects a regular expression pattern into pattern objects. \n",
    "\n",
    "\n",
    "- The [r](https://developers.google.com/edu/python/regular-expressions#:~:text=The%20%27r%27%20at%20the%20start,needs%20this%20feature%20badly!) at the start of the regular expression below refers to the start of the pattern string. \n",
    "\n",
    "\n",
    "- The letters or numbers inside the square brackets set what you are searching for. \n",
    "\n",
    "\n",
    "- The number within the braces set the amount of characters to search for.  \n",
    "\n",
    "\n",
    "- An important note here is the use of two blank spaces as part of this regualr expression. If these characters were not added then the expression would not work correctly.\n",
    "\n",
    "\n",
    "- Finally, the full stop look for any character, except for a new line and the asterisk looks to match the preceding characters zero or more times.  \n"
   ]
  },
  {
   "cell_type": "code",
   "execution_count": 7,
   "id": "84c97aa5",
   "metadata": {},
   "outputs": [],
   "source": [
    "# Compile the regular expression for matching lines.\n",
    "re_course = re.compile(r'([A-Z]{2}[0-9]{3})  (.*)')"
   ]
  },
  {
   "cell_type": "markdown",
   "id": "748256a4-768a-4695-b3f2-372692cf49e8",
   "metadata": {},
   "source": [
    "<br>\n",
    "\n",
    "### Loop through the lines of the response\n",
    "***"
   ]
  },
  {
   "cell_type": "markdown",
   "id": "80b19fa3",
   "metadata": {},
   "source": [
    "This funciton is used to seperate the points from the # and * characters and then store them in an array. \n",
    "\n",
    "- First the variable portfolio is created for the # characters. The origional http file told us that # represents if there was a entry test, interview, portfolio or audition for the course. An [if statement](https://www.w3schools.com/python/python_conditions.asp) is used in this function to see if any value is equal to the # symbol and then stores it in the portofio variable. \n",
    "\n",
    "\n",
    "- Next the random variable checks for * characters. This informs us that not all on this points score were offered places.\n",
    "\n",
    "\n",
    "- Finally the [isdigit](https://www.w3schools.com/python/ref_string_isdigit.asp) function is used to check if any of the characters in the text are digits and stores them in the points variable. \n"
   ]
  },
  {
   "cell_type": "code",
   "execution_count": 8,
   "id": "2d4b2e71",
   "metadata": {},
   "outputs": [],
   "source": [
    "# Creating a function to seperate and add points # and * to an array.\n",
    "def points_to_array(s):\n",
    "    portfolio = ''\n",
    "    if s[0] == '#':\n",
    "        portfolio = '#'\n",
    "        \n",
    "    random = ''\n",
    "    if s[-1] == '*':\n",
    "        random = '*'\n",
    "        \n",
    "    points = ''\n",
    "    \n",
    "    for i in s:\n",
    "        if i.isdigit():\n",
    "            # not addition but linking these two things together \n",
    "            points = points + i \n",
    "            \n",
    "    return[points, portfolio, random]\n"
   ]
  },
  {
   "cell_type": "code",
   "execution_count": 9,
   "id": "9b6b2353",
   "metadata": {},
   "outputs": [],
   "source": [
    "# Creating a path for new 2021 points as a csv file.\n",
    "path2021 = 'data/cao2021_csv_' + nowstr + '.csv' "
   ]
  },
  {
   "cell_type": "code",
   "execution_count": 10,
   "id": "c08f2034",
   "metadata": {},
   "outputs": [
    {
     "ename": "SyntaxError",
     "evalue": "invalid syntax (<ipython-input-10-8f52afea4bea>, line 1)",
     "output_type": "error",
     "traceback": [
      "\u001b[1;36m  File \u001b[1;32m\"<ipython-input-10-8f52afea4bea>\"\u001b[1;36m, line \u001b[1;32m1\u001b[0m\n\u001b[1;33m    <br>\u001b[0m\n\u001b[1;37m    ^\u001b[0m\n\u001b[1;31mSyntaxError\u001b[0m\u001b[1;31m:\u001b[0m invalid syntax\n"
     ]
    }
   ],
   "source": [
    "<br>\n",
    "\n",
    "In the code cell below:\n",
    "    "
   ]
  },
  {
   "cell_type": "markdown",
   "id": "7773a17e",
   "metadata": {},
   "source": [
    "<br>\n",
    "\n",
    "In the code cell below:\n",
    "\n",
    "- [iter_lines](https://stackoverflow.com/questions/16870648/python-read-website-data-line-by-line-when-available) is a function in the requests library which reads the data line by line. It is better to take small bits of data at a time in to avoid losing anything. \n",
    "\n",
    "\n",
    "- [fullmatch](https://www.geeksforgeeks.org/re-fullmatch-function-in-python/) returns a match object if the whole string matches the regular expression pattern. \n",
    "\n",
    "\n",
    "- [strip](https://www.w3schools.com/python/ref_string_strip.asp) is used to remove spaces or characters either a the beginning or the end of a string. So far the first five values are assigned to the course_code variable. Next the strip function is used to extract characters from the seventh value up until the fifty seventh value and this is set to the course_title. \n",
    "\n",
    "\n",
    "- [re.split](https://stackoverflow.com/questions/12683201/python-re-split-to-split-by-spaces-commas-and-periods-but-not-in-cases-like) returns a list where the string is split at each match. In other words, the points are split using the regular expression and the plus symbol will match one or more of that pattern. So this splits the points into round 1 and round 2. \n",
    "\n",
    "\n",
    "- [len](https://www.w3schools.com/python/ref_func_len.asp) is used to check if the length of the course list is not equal to two then only return first two values. \n",
    "\n",
    "<br>\n",
    "\n",
    "Now the amended 2021 points with only the information I want is written to a new csv file that can be used for analysis."
   ]
  },
  {
   "cell_type": "code",
   "execution_count": null,
   "id": "1b5d40dd-1570-4b6e-82f1-3d849302529b",
   "metadata": {
    "scrolled": true,
    "tags": []
   },
   "outputs": [],
   "source": [
    "# Keeps track of how many courses we process.\n",
    "no_lines = 0\n",
    "\n",
    "# Open the csv file for writing.\n",
    "with open(path2021, 'w') as f:\n",
    "    # Write a header row for columns.\n",
    "    f.write(','.join(['code', 'title', 'pointsR1', 'pointsR2']) + '\\n')\n",
    "    \n",
    "    # Loop through lines of the response - ref 6.\n",
    "    for line in resp.iter_lines():\n",
    "        \n",
    "        # Decode the line, using the wrong encoding!\n",
    "        dline = line.decode('cp1252')\n",
    "        \n",
    "        # Match only the lines representing courses.\n",
    "        if re_course.fullmatch(dline):\n",
    "            \n",
    "            # Add one to the lines counter.\n",
    "            no_lines = no_lines + 1\n",
    "            \n",
    "            #extract first 5 characters for course codes.\n",
    "            course_code = dline[:5]\n",
    "            \n",
    "            # strip everything before 7  and after 57\n",
    "            course_title = dline[7:57].strip()\n",
    "            \n",
    "            #course_round1 = dline[60:]\n",
    "            #print(f\"'{course_code} {len(dline)}'\")\n",
    "            \n",
    "            course_points = re.split(' +', dline[60:])\n",
    "            #print(f\"'{course_code} {course_points}'\")\n",
    "            \n",
    "            # if the length of points is not equal to 2 only return first 2 values. \n",
    "            if len(course_points) != 2:\n",
    "                \n",
    "                # prints out last line which contains 3 \n",
    "                # print(f\"'{course_code} {course_points}'\")\n",
    "                \n",
    "                course_points = course_points[:2]\n",
    "                \n",
    "            # join the fields using a comma.\n",
    "            linesplit = [course_code, course_title, course_points[0], course_points[1]]\n",
    "            \n",
    "            # Rejoin the substrings with commas in between.\n",
    "            f.write(','.join(linesplit) + '\\n')\n",
    "               \n",
    "# Print the total number of processed lines.\n",
    "print(f\"Total number of lines is {no_lines}.\")\n"
   ]
  },
  {
   "cell_type": "markdown",
   "id": "65f3bcaa",
   "metadata": {},
   "source": [
    "# TO DO HERE\n",
    "\n",
    "- tidy up 2021 points \n",
    "\n",
    "\n",
    "- write a sub function to deal with the * and # components to seperate from points\n",
    "\n",
    "\n",
    "- more comments and explainations"
   ]
  },
  {
   "cell_type": "markdown",
   "id": "b4759045",
   "metadata": {},
   "source": [
    "<br>\n",
    "\n",
    "# VERIFY THIS MANUALLY!!!! \n",
    "\n",
    "\n",
    "**NB**: It was verified as of //21 that there were 949 courses exactly on the CAO 2021 points list\n",
    "\n",
    "***"
   ]
  },
  {
   "cell_type": "code",
   "execution_count": null,
   "id": "7525680e",
   "metadata": {},
   "outputs": [],
   "source": [
    "df2021 = pd.read_csv(path2021, encoding='cp1252')"
   ]
  },
  {
   "cell_type": "code",
   "execution_count": null,
   "id": "069be8d6",
   "metadata": {},
   "outputs": [],
   "source": [
    "df2021"
   ]
  },
  {
   "cell_type": "markdown",
   "id": "6d029d67",
   "metadata": {},
   "source": [
    "***"
   ]
  },
  {
   "cell_type": "markdown",
   "id": "630a18e3",
   "metadata": {},
   "source": [
    "<br>\n",
    "\n",
    "# 2020 CAO Points\n",
    "\n",
    "http://www.cao.ie/index.php?page=points&p=2020\n",
    "\n",
    "***"
   ]
  },
  {
   "cell_type": "code",
   "execution_count": null,
   "id": "66774d9c",
   "metadata": {},
   "outputs": [],
   "source": [
    "url2020 = 'http://www2.cao.ie/points/CAOPointsCharts2020.xlsx'"
   ]
  },
  {
   "cell_type": "markdown",
   "id": "adec77a5",
   "metadata": {},
   "source": [
    "<br>\n",
    "\n",
    "### Save origional data set\n",
    "\n",
    "***"
   ]
  },
  {
   "cell_type": "code",
   "execution_count": null,
   "id": "f85b650f-fa20-4323-8600-b6f2342e0680",
   "metadata": {},
   "outputs": [],
   "source": [
    "# Create a file path for the original data.\n",
    "pathxlsx = 'data/cao2020_' + nowstr + '.xlsx'"
   ]
  },
  {
   "cell_type": "code",
   "execution_count": null,
   "id": "45b09350-c148-4c0a-a7d9-0f37c4d6a063",
   "metadata": {},
   "outputs": [],
   "source": [
    "urlrq.urlretrieve(url2020, pathxlsx)"
   ]
  },
  {
   "cell_type": "markdown",
   "id": "75dd566d",
   "metadata": {},
   "source": [
    "<br>\n",
    "\n",
    "### Load Excel Spreadsheet using Pandas\n",
    "\n",
    "***"
   ]
  },
  {
   "cell_type": "code",
   "execution_count": null,
   "id": "e08eb37d-7031-467f-9183-8ec8b307bf5f",
   "metadata": {},
   "outputs": [],
   "source": [
    "# Download and parse the excel spreadsheet.\n",
    "df2020 = pd.read_excel(url2020, skiprows=10)"
   ]
  },
  {
   "cell_type": "code",
   "execution_count": null,
   "id": "ee413c8c-d36e-442b-96b8-08f95773819a",
   "metadata": {},
   "outputs": [],
   "source": [
    "df2020"
   ]
  },
  {
   "cell_type": "code",
   "execution_count": null,
   "id": "b5dd9ce3-c153-4cd3-ad93-0390c3d3f4a1",
   "metadata": {},
   "outputs": [],
   "source": [
    "# Spot check a random row.\n",
    "df2020.iloc[753]"
   ]
  },
  {
   "cell_type": "code",
   "execution_count": null,
   "id": "51fe7542",
   "metadata": {},
   "outputs": [],
   "source": [
    "# Spot check the last row.\n",
    "df2020.iloc[-1]"
   ]
  },
  {
   "cell_type": "code",
   "execution_count": null,
   "id": "905de71e",
   "metadata": {},
   "outputs": [],
   "source": [
    "# Create a file path for the pandas data.\n",
    "path2020 = 'data/cao2020_' + nowstr + '.csv'"
   ]
  },
  {
   "cell_type": "code",
   "execution_count": null,
   "id": "92cafd40",
   "metadata": {},
   "outputs": [],
   "source": [
    "# Save pandas data frame to disk.\n",
    "df2020.to_csv(path2020)"
   ]
  },
  {
   "cell_type": "markdown",
   "id": "84d73f7e",
   "metadata": {},
   "source": [
    " <br>\n",
    "\n",
    "## 2019 CAO Points\n",
    "\n",
    "http://www.cao.ie/index.php?page=points&p=2019\n",
    "\n",
    "***   "
   ]
  },
  {
   "cell_type": "markdown",
   "id": "0b4ce292",
   "metadata": {},
   "source": [
    "**Steps to reproduce**\n",
    "\n",
    "1.  Download original pdf file.\n",
    "2.  Open original pdf file in Microsoft Word.\n",
    "3.  Save Microsoft Word's converted PDF in docx format.\n",
    "4.  Re-save Word document for editing.\n",
    "5.  Delete headers and footers.\n",
    "6.  Delete preamble on page 1.\n",
    "7.  Select all and copy.\n",
    "8.  Paste into Visual Studio Code.\n",
    "9.  Remove HEI name lines and black lines.\n",
    "10. Change column heading \"COURSE AND INSTITUTION\" to \"Course\".\n",
    "11. Change backticks to apostrophes.\n",
    "12. Replaced double tab charater at on line 28 with single tab.\n",
    "13. Delete tabs at end of lines 604, 670, 700, 701, 793, and 830."
   ]
  },
  {
   "cell_type": "code",
   "execution_count": null,
   "id": "5f5bd051-eeeb-410b-904a-04385783be68",
   "metadata": {},
   "outputs": [],
   "source": [
    "df2019 = pd.read_csv('data/cao2019_20211103_202410_edited.csv', sep='\\t')"
   ]
  },
  {
   "cell_type": "code",
   "execution_count": null,
   "id": "afa5e691",
   "metadata": {},
   "outputs": [],
   "source": [
    "df2019"
   ]
  },
  {
   "cell_type": "markdown",
   "id": "44330a21",
   "metadata": {},
   "source": [
    "EOS means end of season points. \n",
    "\n",
    "MID means mid points person had who got the course"
   ]
  },
  {
   "cell_type": "code",
   "execution_count": null,
   "id": "6489d2dc",
   "metadata": {},
   "outputs": [],
   "source": []
  },
  {
   "cell_type": "markdown",
   "id": "9bfdd2fa",
   "metadata": {},
   "source": [
    "***"
   ]
  },
  {
   "cell_type": "markdown",
   "id": "de27e198",
   "metadata": {},
   "source": [
    "# Concat and join\n",
    "***"
   ]
  },
  {
   "cell_type": "code",
   "execution_count": null,
   "id": "0527c0e0",
   "metadata": {},
   "outputs": [],
   "source": [
    "# CREATED DF CALLED COURSES2021"
   ]
  },
  {
   "cell_type": "code",
   "execution_count": null,
   "id": "72586d3b",
   "metadata": {},
   "outputs": [],
   "source": [
    "courses2021 = df2021[['code', 'title']]\n",
    "courses2021"
   ]
  },
  {
   "cell_type": "code",
   "execution_count": null,
   "id": "b3c5e7f2",
   "metadata": {},
   "outputs": [],
   "source": [
    "# CREATED DF CALLED COURSES2020"
   ]
  },
  {
   "cell_type": "code",
   "execution_count": null,
   "id": "1cb3cd07",
   "metadata": {},
   "outputs": [],
   "source": [
    "courses2020 = df2020[['COURSE CODE2','COURSE TITLE']]\n",
    "# set column heading to be the same as 2021\n",
    "courses2020.columns = ['code', 'title']\n",
    "courses2020"
   ]
  },
  {
   "cell_type": "code",
   "execution_count": null,
   "id": "f35729c6",
   "metadata": {},
   "outputs": [],
   "source": [
    "# CONCATENATE COURSES2021 AND COURSES2020 \n",
    "# PUT CODE AND TITLE ON TOP OF ONE ANOTHER"
   ]
  },
  {
   "cell_type": "code",
   "execution_count": null,
   "id": "9fa1f44c",
   "metadata": {},
   "outputs": [],
   "source": [
    "# https://pandas.pydata.org/pandas-docs/stable/reference/api/pandas.concat.html\n",
    "\n",
    "allcourses = pd.concat([courses2021, courses2020], ignore_index=True)\n",
    "allcourses"
   ]
  },
  {
   "cell_type": "code",
   "execution_count": null,
   "id": "9a80f1b7",
   "metadata": {},
   "outputs": [],
   "source": [
    "# SORT THE VALUES TO SHOW THERE ARE DUPLICATES IN THE CONCATENATED DF"
   ]
  },
  {
   "cell_type": "code",
   "execution_count": null,
   "id": "11dee952",
   "metadata": {},
   "outputs": [],
   "source": [
    "allcourses.sort_values('code')"
   ]
  },
  {
   "cell_type": "code",
   "execution_count": null,
   "id": "2c8f8b00",
   "metadata": {},
   "outputs": [],
   "source": [
    "# DISPLAY DUPLICATE COURSE ON TWO INDEX'"
   ]
  },
  {
   "cell_type": "code",
   "execution_count": null,
   "id": "6e589fc8",
   "metadata": {},
   "outputs": [],
   "source": [
    "allcourses.loc[175]['title']"
   ]
  },
  {
   "cell_type": "code",
   "execution_count": null,
   "id": "93378292",
   "metadata": {},
   "outputs": [],
   "source": [
    "allcourses.loc[949]['title']"
   ]
  },
  {
   "cell_type": "code",
   "execution_count": null,
   "id": "d5ae2267",
   "metadata": {},
   "outputs": [],
   "source": [
    "# https://pandas.pydata.org/docs/reference/api/pandas.DataFrame.duplicated.html\n",
    "\n",
    "# Finds all extra copies of duplicated rows.\n",
    "allcourses[allcourses.duplicated()]"
   ]
  },
  {
   "cell_type": "code",
   "execution_count": null,
   "id": "b19ed234",
   "metadata": {},
   "outputs": [],
   "source": [
    "# Returns a copy of the data frame with duplciates removed.\n",
    "allcourses.drop_duplicates()"
   ]
  },
  {
   "cell_type": "code",
   "execution_count": null,
   "id": "b4e8e710",
   "metadata": {},
   "outputs": [],
   "source": [
    "# REMOVE DUPLICATES BASED ON CODE ALONE"
   ]
  },
  {
   "cell_type": "code",
   "execution_count": null,
   "id": "15715f33",
   "metadata": {},
   "outputs": [],
   "source": [
    "# Finds all extra copies of duplicated rows.\n",
    "allcourses[allcourses.duplicated(subset=['code'])]"
   ]
  },
  {
   "cell_type": "code",
   "execution_count": null,
   "id": "16ea58a7",
   "metadata": {},
   "outputs": [],
   "source": [
    "# DF OF ALLCOURSES\n",
    "# CONTAINS FULL LIST OF COURSES AVAILABLE IN 2021, 2020 OR BOTH"
   ]
  },
  {
   "cell_type": "code",
   "execution_count": null,
   "id": "b83fd1a9",
   "metadata": {},
   "outputs": [],
   "source": [
    "# INPLACE=TRUE MEANS IT MAKES THE CHANGE IN THE DF AS OPPOSED TO RETURNING A NEW ONE\n",
    "\n",
    "#IGNORE_INDEX=TRUE IGNORES THE INDES OF ORIGIONAL ARRAYS AND BASICALLY RE-SETS THE INDEX ON THE NEW DF"
   ]
  },
  {
   "cell_type": "code",
   "execution_count": null,
   "id": "4dcaa7fc",
   "metadata": {},
   "outputs": [],
   "source": [
    "# Returns a copy of the data frame with duplciates removed - based only on code.\n",
    "allcourses.drop_duplicates(subset=['code'], inplace=True, ignore_index=True)"
   ]
  },
  {
   "cell_type": "code",
   "execution_count": null,
   "id": "4be1faf7",
   "metadata": {},
   "outputs": [],
   "source": [
    "allcourses"
   ]
  },
  {
   "cell_type": "markdown",
   "id": "89d11829",
   "metadata": {},
   "source": [
    "<br>\n",
    "\n",
    "# Join to points"
   ]
  },
  {
   "cell_type": "code",
   "execution_count": null,
   "id": "425cb21b",
   "metadata": {},
   "outputs": [],
   "source": [
    "# INPLACE=TRUE AGAIN PERMANENTLY CHANGES THE INDEX OF DF2021 AND SETS IT AS THE CODE"
   ]
  },
  {
   "cell_type": "code",
   "execution_count": null,
   "id": "cd606fc5",
   "metadata": {},
   "outputs": [],
   "source": [
    "# Set the index to the code column.\n",
    "df2021.set_index('code', inplace=True)\n",
    "df2021.columns = ['title', 'points_r1_2021', 'points_r2_2021']\n",
    "df2021"
   ]
  },
  {
   "cell_type": "code",
   "execution_count": null,
   "id": "8113f30b",
   "metadata": {},
   "outputs": [],
   "source": [
    "# INPLACE=TRUE AGAIN PERMANENTLY CHANGES THE INDEX OF ALLCOURSES AND SETS IT AS THE CODE"
   ]
  },
  {
   "cell_type": "code",
   "execution_count": null,
   "id": "baa566bc",
   "metadata": {},
   "outputs": [],
   "source": [
    "# Set the index to the code column.\n",
    "allcourses.set_index('code', inplace=True)"
   ]
  },
  {
   "cell_type": "code",
   "execution_count": null,
   "id": "6dd1eda1",
   "metadata": {},
   "outputs": [],
   "source": [
    "# NOW JOINING POINTS FROM DF2021 ARRAY TO ALLCOURSES ARRAY"
   ]
  },
  {
   "cell_type": "code",
   "execution_count": null,
   "id": "8c226618",
   "metadata": {},
   "outputs": [],
   "source": [
    "allcourses = allcourses.join(df2021[['points_r1_2021']])\n",
    "allcourses"
   ]
  },
  {
   "cell_type": "code",
   "execution_count": null,
   "id": "c198fe75",
   "metadata": {},
   "outputs": [],
   "source": [
    "# DOING THE SAME THING FOR DF2020"
   ]
  },
  {
   "cell_type": "code",
   "execution_count": null,
   "id": "0c27645b",
   "metadata": {},
   "outputs": [],
   "source": [
    "df2020_r1 = df2020[['COURSE CODE2', 'R1 POINTS']]\n",
    "df2020_r1.columns = ['code', 'points_r1_2020']\n",
    "df2020_r1"
   ]
  },
  {
   "cell_type": "code",
   "execution_count": null,
   "id": "aa225218",
   "metadata": {},
   "outputs": [],
   "source": [
    "# PERMANETLY CHANGING INDEX OF DF2020 TO THE CODE COLUMN"
   ]
  },
  {
   "cell_type": "code",
   "execution_count": null,
   "id": "e4d3668f-f3e3-42ac-bbce-65dfea740720",
   "metadata": {},
   "outputs": [],
   "source": [
    "# Set the index to the code column.\n",
    "df2020_r1.set_index('code', inplace=True)\n",
    "df2020_r1"
   ]
  },
  {
   "cell_type": "code",
   "execution_count": null,
   "id": "2e7ae153",
   "metadata": {},
   "outputs": [],
   "source": [
    "# FINALLY JOINING DF2020 TO ALL COURSES DF\n",
    "# CREATES A TABLE CONTAIN COLUMN FOR 2021 POINTS AND 2020 PONITS\n",
    "# https://pandas.pydata.org/docs/reference/api/pandas.DataFrame.join.html"
   ]
  },
  {
   "cell_type": "code",
   "execution_count": null,
   "id": "49c27bce",
   "metadata": {},
   "outputs": [],
   "source": [
    "# Join 2020 points to allcourses.\n",
    "allcourses = allcourses.join(df2020_r1)\n",
    "allcourses"
   ]
  },
  {
   "cell_type": "code",
   "execution_count": null,
   "id": "abf09aad",
   "metadata": {},
   "outputs": [],
   "source": []
  },
  {
   "cell_type": "code",
   "execution_count": null,
   "id": "e58d7b05",
   "metadata": {},
   "outputs": [],
   "source": []
  },
  {
   "cell_type": "code",
   "execution_count": null,
   "id": "de9471b1",
   "metadata": {},
   "outputs": [],
   "source": []
  },
  {
   "cell_type": "code",
   "execution_count": null,
   "id": "3d1e9d70",
   "metadata": {},
   "outputs": [],
   "source": []
  },
  {
   "cell_type": "code",
   "execution_count": null,
   "id": "9e3c6900",
   "metadata": {},
   "outputs": [],
   "source": []
  },
  {
   "cell_type": "code",
   "execution_count": null,
   "id": "76c64b09",
   "metadata": {},
   "outputs": [],
   "source": []
  },
  {
   "cell_type": "code",
   "execution_count": null,
   "id": "213c0160",
   "metadata": {},
   "outputs": [],
   "source": []
  },
  {
   "cell_type": "markdown",
   "id": "5dfb84b7",
   "metadata": {},
   "source": [
    "# TO DO\n",
    "\n",
    "\n",
    "***\n",
    "\n",
    "- ADD EXPLANATIONS ABOUT WHAT IS HAPPENING\n",
    "\n",
    "\n",
    "- MAYBE ADD PLOTS TO COMPARE DATA\n",
    "\n",
    "\n",
    "- ADD CONTENT TO THE README\n",
    "\n",
    "\n",
    "- SAVE NEW DF OF ALLCOURSES TO A CSV IN DATA FOLDER\n",
    "\n",
    "\n",
    "- JOIN IN 2019 POINTS TO ALLCOURSES DF AND COMPARE\n"
   ]
  },
  {
   "cell_type": "markdown",
   "id": "6a012441",
   "metadata": {},
   "source": [
    "<br>\n",
    "\n",
    "\n",
    "# This notebook should have:\n",
    " ***\n",
    " \n",
    " 1. origional data file 2021,2020,2019 from cao website\n",
    " \n",
    " \n",
    "2. cleaned data files x 3 again\n",
    "\n",
    "\n",
    "3. merged data file with all 3 - analyse this one with plots"
   ]
  },
  {
   "cell_type": "code",
   "execution_count": null,
   "id": "d99bb5df",
   "metadata": {},
   "outputs": [],
   "source": []
  },
  {
   "cell_type": "code",
   "execution_count": null,
   "id": "63c26227",
   "metadata": {},
   "outputs": [],
   "source": []
  },
  {
   "cell_type": "markdown",
   "id": "e35ffe1f-2cd4-408a-a8d9-c9ba8f380620",
   "metadata": {},
   "source": [
    "<br>\n",
    "\n",
    "# References:\n",
    "\n",
    "***\n",
    " \n",
    "All references and code used in these notebooks have been sourced in Oct/Nov/Dec 2021 from the following webpages:\n",
    "\n",
    " \n",
    "- https://docs.python.org/3/library/re.html\n",
    "\n",
    "\n",
    "- https://realpython.com/regex-python/\n",
    "\n",
    "\n",
    "- https://realpython.com/regex-python-part-2/\n",
    "\n",
    "\n",
    "- https://docs.python-requests.org/en/latest/user/quickstart/#make-a-request\n",
    "\n",
    "\n",
    "- https://www.mygreatlearning.com/blog/regular-expression-in-python/\n",
    "\n",
    "\n",
    "- https://stackoverflow.com/questions/16870648/python-read-website-data-line-by-line-when-available\n",
    "\n",
    "\n",
    "- https://sites.pitt.edu/~naraehan/python3/mbb12.html\n",
    "\n",
    "\n",
    "- https://docs.python.org/3/library/datetime.html\n",
    "\n",
    "\n",
    "- https://pandas.pydata.org/pandas-docs/stable/user_guide/dsintro.html\n",
    "\n",
    "\n",
    "- https://docs.python.org/3/library/urllib.request.html\n",
    "\n",
    "\n",
    "- \n",
    "\n",
    "\n",
    "\n",
    "\n",
    "<br>"
   ]
  },
  {
   "cell_type": "markdown",
   "id": "83e6cbec",
   "metadata": {},
   "source": [
    "***\n",
    "\n",
    "# End"
   ]
  }
 ],
 "metadata": {
  "kernelspec": {
   "display_name": "Python 3",
   "language": "python",
   "name": "python3"
  },
  "language_info": {
   "codemirror_mode": {
    "name": "ipython",
    "version": 3
   },
   "file_extension": ".py",
   "mimetype": "text/x-python",
   "name": "python",
   "nbconvert_exporter": "python",
   "pygments_lexer": "ipython3",
   "version": "3.8.8"
  }
 },
 "nbformat": 4,
 "nbformat_minor": 5
}
